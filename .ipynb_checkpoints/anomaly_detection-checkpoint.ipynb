{
 "cells": [
  {
   "cell_type": "code",
   "execution_count": 9,
   "id": "9fd9d8e0",
   "metadata": {},
   "outputs": [],
   "source": [
    "import os\n",
    "import torch\n",
    "import torch.nn as nn\n",
    "from torch.utils.data import DataLoader, Dataset, ConcatDataset\n",
    "import torch.optim as optim\n",
    "\n",
    "import matplotlib.pyplot as plt\n",
    "import numpy as np\n",
    "\n",
    "import tqdm\n",
    "\n",
    "from cosmo_compression.data import data\n",
    "from cosmo_compression.downstream import anomaly_det_model as anom"
   ]
  },
  {
   "cell_type": "code",
   "execution_count": null,
   "id": "0bcc78b5",
   "metadata": {},
   "outputs": [],
   "source": [
    "# 1) Setup\n",
    "device = 'cuda' if torch.cuda.is_available() else 'cpu'\n",
    "dataset_path = '/monolith/global_data/astro_compression/CAMELS/'\n",
    "\n",
    "MAP_TYPE = \"Mcdm\"\n",
    "SUITE = \"IllustrisTNG\"\n",
    "DATASET = \"LH\"\n",
    "MAP_RESOLUTION = 256\n",
    "\n",
    "# 3) Prepare dataset (single‐sample access)\n",
    "cdm_train = data.CAMELS(\n",
    "    root=dataset_path,\n",
    "    idx_list=range(0, 1000),\n",
    "    map_type=MAP_TYPE,\n",
    "    suite=SUITE,\n",
    "    dataset=DATASET,\n",
    "    parameters=['Omega_m','sigma_8','A_SN1','A_SN2','A_AGN1','A_AGN2','Omega_b'],\n",
    ")\n",
    "\n",
    "wdm_train = data.CAMELS(\n",
    "    root=dataset_path,\n",
    "    idx_list=range(0, 1000),\n",
    "    map_type=MAP_TYPE,\n",
    "    suite=SUITE,\n",
    "    dataset=\"WDM\",\n",
    "    parameters=['Omega_m','sigma_8','A_SN1','A_SN2','A_AGN1','A_AGN2','Wdm_mass'],\n",
    ")\n",
    "\n",
    "cdm_test = data.CAMELS(\n",
    "    root=dataset_path,\n",
    "    idx_list=range(12000, 15000),\n",
    "    map_type=MAP_TYPE,\n",
    "    suite=SUITE,\n",
    "    dataset=DATASET,\n",
    "    parameters=['Omega_m','sigma_8','A_SN1','A_SN2','A_AGN1','A_AGN2','Omega_b'],\n",
    ")\n",
    "\n",
    "wdm_test = data.CAMELS(\n",
    "    root=dataset_path,\n",
    "    idx_list=range(12000, 15000),\n",
    "    map_type=MAP_TYPE,\n",
    "    suite=SUITE,\n",
    "    dataset=\"WDM\",\n",
    "    parameters=['Omega_m','sigma_8','A_SN1','A_SN2','A_AGN1','A_AGN2','Wdm_mass'],\n",
    ")\n",
    "\n",
    "def add_label(dataset, label):\n",
    "    class LabeledDataset(Dataset):\n",
    "        def __init__(self, base, lbl):\n",
    "            self.base = base\n",
    "            self.lbl = lbl\n",
    "        def __len__(self):\n",
    "            return len(self.base)\n",
    "        def __getitem__(self, idx):\n",
    "            img, params = self.base[idx]\n",
    "            return img, self.lbl\n",
    "    return LabeledDataset(dataset, label)"
   ]
  },
  {
   "cell_type": "code",
   "execution_count": 11,
   "id": "164db792",
   "metadata": {},
   "outputs": [],
   "source": [
    "cdm_train_l = add_label(cdm_train, 0)\n",
    "wdm_train_l = add_label(wdm_train, 1)\n",
    "cdm_test_l  = add_label(cdm_test,  0)\n",
    "wdm_test_l  = add_label(wdm_test,  1)\n",
    "\n",
    "train_ds = ConcatDataset([cdm_train_l, wdm_train_l])\n",
    "test_ds  = ConcatDataset([cdm_test_l,  wdm_test_l])\n",
    "\n",
    "train_loader = DataLoader(train_ds, batch_size=64, shuffle=True, num_workers=4)\n",
    "test_loader  = DataLoader(test_ds,  batch_size=64, shuffle=False, num_workers=4)\n",
    "\n",
    "model = anom.AnomalyDetectorImg(hidden=5, dr=0.1, channels=1)\n",
    "model = model.to(device)\n"
   ]
  },
  {
   "cell_type": "code",
   "execution_count": 12,
   "id": "5a38b1a6",
   "metadata": {},
   "outputs": [
    {
     "name": "stderr",
     "output_type": "stream",
     "text": [
      "Epoch 1/10: 100%|██████████| 32/32 [00:02<00:00, 13.02it/s]"
     ]
    },
    {
     "name": "stdout",
     "output_type": "stream",
     "text": [
      "Epoch 1/10 - Train Loss: 0.8134\n"
     ]
    },
    {
     "name": "stderr",
     "output_type": "stream",
     "text": [
      "\n"
     ]
    },
    {
     "name": "stdout",
     "output_type": "stream",
     "text": [
      "          Test Acc:  0.5245\n",
      "\n"
     ]
    },
    {
     "name": "stderr",
     "output_type": "stream",
     "text": [
      "Epoch 2/10: 100%|██████████| 32/32 [00:02<00:00, 13.04it/s]"
     ]
    },
    {
     "name": "stdout",
     "output_type": "stream",
     "text": [
      "Epoch 2/10 - Train Loss: 0.3267\n"
     ]
    },
    {
     "name": "stderr",
     "output_type": "stream",
     "text": [
      "\n"
     ]
    },
    {
     "name": "stdout",
     "output_type": "stream",
     "text": [
      "          Test Acc:  0.6390\n",
      "\n"
     ]
    },
    {
     "name": "stderr",
     "output_type": "stream",
     "text": [
      "Epoch 3/10: 100%|██████████| 32/32 [00:02<00:00, 13.03it/s]"
     ]
    },
    {
     "name": "stdout",
     "output_type": "stream",
     "text": [
      "Epoch 3/10 - Train Loss: 0.0662\n"
     ]
    },
    {
     "name": "stderr",
     "output_type": "stream",
     "text": [
      "\n"
     ]
    },
    {
     "name": "stdout",
     "output_type": "stream",
     "text": [
      "          Test Acc:  0.8127\n",
      "\n"
     ]
    },
    {
     "name": "stderr",
     "output_type": "stream",
     "text": [
      "Epoch 4/10: 100%|██████████| 32/32 [00:02<00:00, 12.96it/s]"
     ]
    },
    {
     "name": "stdout",
     "output_type": "stream",
     "text": [
      "Epoch 4/10 - Train Loss: 0.0129\n"
     ]
    },
    {
     "name": "stderr",
     "output_type": "stream",
     "text": [
      "\n"
     ]
    },
    {
     "name": "stdout",
     "output_type": "stream",
     "text": [
      "          Test Acc:  0.9252\n",
      "\n"
     ]
    },
    {
     "name": "stderr",
     "output_type": "stream",
     "text": [
      "Epoch 5/10: 100%|██████████| 32/32 [00:02<00:00, 13.01it/s]"
     ]
    },
    {
     "name": "stdout",
     "output_type": "stream",
     "text": [
      "Epoch 5/10 - Train Loss: 0.0023\n"
     ]
    },
    {
     "name": "stderr",
     "output_type": "stream",
     "text": [
      "\n"
     ]
    },
    {
     "name": "stdout",
     "output_type": "stream",
     "text": [
      "          Test Acc:  0.9348\n",
      "\n"
     ]
    },
    {
     "name": "stderr",
     "output_type": "stream",
     "text": [
      "Epoch 6/10: 100%|██████████| 32/32 [00:02<00:00, 13.01it/s]"
     ]
    },
    {
     "name": "stdout",
     "output_type": "stream",
     "text": [
      "Epoch 6/10 - Train Loss: 0.0015\n"
     ]
    },
    {
     "name": "stderr",
     "output_type": "stream",
     "text": [
      "\n"
     ]
    },
    {
     "name": "stdout",
     "output_type": "stream",
     "text": [
      "          Test Acc:  0.9372\n",
      "\n"
     ]
    },
    {
     "name": "stderr",
     "output_type": "stream",
     "text": [
      "Epoch 7/10: 100%|██████████| 32/32 [00:02<00:00, 12.96it/s]"
     ]
    },
    {
     "name": "stdout",
     "output_type": "stream",
     "text": [
      "Epoch 7/10 - Train Loss: 0.0010\n"
     ]
    },
    {
     "name": "stderr",
     "output_type": "stream",
     "text": [
      "\n"
     ]
    },
    {
     "name": "stdout",
     "output_type": "stream",
     "text": [
      "          Test Acc:  0.9413\n",
      "\n"
     ]
    },
    {
     "name": "stderr",
     "output_type": "stream",
     "text": [
      "Epoch 8/10: 100%|██████████| 32/32 [00:02<00:00, 13.06it/s]"
     ]
    },
    {
     "name": "stdout",
     "output_type": "stream",
     "text": [
      "Epoch 8/10 - Train Loss: 0.0007\n"
     ]
    },
    {
     "name": "stderr",
     "output_type": "stream",
     "text": [
      "\n"
     ]
    },
    {
     "name": "stdout",
     "output_type": "stream",
     "text": [
      "          Test Acc:  0.9448\n",
      "\n"
     ]
    },
    {
     "name": "stderr",
     "output_type": "stream",
     "text": [
      "Epoch 9/10: 100%|██████████| 32/32 [00:02<00:00, 13.02it/s]"
     ]
    },
    {
     "name": "stdout",
     "output_type": "stream",
     "text": [
      "Epoch 9/10 - Train Loss: 0.0005\n"
     ]
    },
    {
     "name": "stderr",
     "output_type": "stream",
     "text": [
      "\n"
     ]
    },
    {
     "name": "stdout",
     "output_type": "stream",
     "text": [
      "          Test Acc:  0.9438\n",
      "\n"
     ]
    },
    {
     "name": "stderr",
     "output_type": "stream",
     "text": [
      "Epoch 10/10: 100%|██████████| 32/32 [00:02<00:00, 13.02it/s]"
     ]
    },
    {
     "name": "stdout",
     "output_type": "stream",
     "text": [
      "Epoch 10/10 - Train Loss: 0.0004\n"
     ]
    },
    {
     "name": "stderr",
     "output_type": "stream",
     "text": [
      "\n"
     ]
    },
    {
     "name": "stdout",
     "output_type": "stream",
     "text": [
      "          Test Acc:  0.9480\n",
      "\n"
     ]
    }
   ],
   "source": [
    "criterion = nn.CrossEntropyLoss()\n",
    "optimizer = optim.Adam(model.parameters(), lr=1e-3)\n",
    "\n",
    "# 8) Training loop\n",
    "num_epochs = 10\n",
    "for epoch in range(num_epochs):\n",
    "    model.train()\n",
    "    total_loss = 0.0\n",
    "    for imgs, labels in tqdm.tqdm(train_loader, desc=f\"Epoch {epoch+1}/{num_epochs}\"):\n",
    "        imgs = imgs.to(device)\n",
    "        labels = labels.to(device)\n",
    "        logits = model(imgs)           # feature extractor\n",
    "        loss     = criterion(logits, labels)\n",
    "        optimizer.zero_grad()\n",
    "        loss.backward()\n",
    "        optimizer.step()\n",
    "        total_loss += loss.item() * imgs.size(0)\n",
    "    avg_loss = total_loss / len(train_loader.dataset)\n",
    "    print(f\"Epoch {epoch+1}/{num_epochs} - Train Loss: {avg_loss:.4f}\")\n",
    "\n",
    "    # evaluation\n",
    "    model.eval()\n",
    "    correct = 0\n",
    "    with torch.no_grad():\n",
    "        for imgs, labels in test_loader:\n",
    "            imgs = imgs.to(device)\n",
    "            labels = labels.to(device)\n",
    "            feats = model(imgs)\n",
    "            preds = (feats).argmax(dim=1)\n",
    "            correct += (preds == labels).sum().item()\n",
    "    acc = correct / len(test_loader.dataset)\n",
    "    print(f\"          Test Acc:  {acc:.4f}\\n\")"
   ]
  },
  {
   "cell_type": "code",
   "execution_count": null,
   "id": "c54041f9",
   "metadata": {},
   "outputs": [],
   "source": [
    "full_ds = np.load(os.path.join(dataset_path, 'Maps_Mcdm_IllustrisTNG_LH_z=0.00.npy'), allow_pickle=True)\n",
    "\n",
    "# Save the first thousand to disk as cdm_train.npy\n",
    "np.save('cdm_train.npy', full_ds[:1000])\n",
    "np.save('cdm_test.npy', full_ds[-1000:])\n",
    "\n",
    "full_ds = np.load(os.path.join(dataset_path, 'Maps_Mcdm_IllustrisTNG_WDM_z=0.00.npy'), allow_pickle=True)\n",
    "np.save('wdm_train.npy', full_ds[:1000])\n",
    "np.save('wdm_test.npy', full_ds[-1000:])\n",
    "\n",
    "\n"
   ]
  }
 ],
 "metadata": {
  "kernelspec": {
   "display_name": "cosmo-repr",
   "language": "python",
   "name": "python3"
  },
  "language_info": {
   "codemirror_mode": {
    "name": "ipython",
    "version": 3
   },
   "file_extension": ".py",
   "mimetype": "text/x-python",
   "name": "python",
   "nbconvert_exporter": "python",
   "pygments_lexer": "ipython3",
   "version": "3.10.16"
  }
 },
 "nbformat": 4,
 "nbformat_minor": 5
}
