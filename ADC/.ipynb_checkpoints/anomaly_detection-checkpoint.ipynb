{
 "cells": [
  {
   "cell_type": "code",
   "execution_count": 2,
   "id": "9fd9d8e0",
   "metadata": {},
   "outputs": [],
   "source": [
    "import os\n",
    "import torch\n",
    "import torch.nn as nn\n",
    "from torch.utils.data import DataLoader, Dataset, ConcatDataset\n",
    "import torch.optim as optim\n",
    "\n",
    "import matplotlib.pyplot as plt\n",
    "import numpy as np\n",
    "\n",
    "import tqdm\n",
    "\n",
    "import data\n",
    "import anomaly_det_model as anom"
   ]
  },
  {
   "cell_type": "code",
   "execution_count": null,
   "id": "0bcc78b5",
   "metadata": {},
   "outputs": [],
   "source": [
    "# 1) Setup\n",
    "device = 'cuda' if torch.cuda.is_available() else 'cpu'\n",
    "# ckpt_path = '/home/sid/cosmo_compression/src/cosmo_compression/uncond/step=step=2850-val_loss=val_loss=0.432.ckpt'\n",
    "cdm_path = '/n/netscratch/iaifi_lab/Lab/msliu/CMD/data/IllustrisTNG/'\n",
    "wdm_path='/n/netscratch/iaifi_lab/Lab/ccuestalazaro/DREAMS/Images/WDM/boxes/'\n",
    "\n",
    "MAP_TYPE = \"Mcdm\"\n",
    "SUITE = \"IllustrisTNG\"\n",
    "DATASET = \"LH\"\n",
    "MAP_RESOLUTION = 256\n",
    "\n",
    "# 3) Prepare dataset (single‐sample access)\n",
    "cdm_train = data.CAMELS(\n",
    "    root=cdm_path,\n",
    "    idx_list=range(0, 12000),\n",
    "    map_type=MAP_TYPE,\n",
    "    suite=SUITE,\n",
    "    dataset=DATASET,\n",
    "    parameters=['Omega_m','sigma_8','A_SN1','A_SN2','A_AGN1','A_AGN2','Omega_b'],\n",
    ")\n",
    "\n",
    "wdm_train = data.CAMELS(\n",
    "    root=wdm_path,\n",
    "    idx_list=range(0, 12000),\n",
    "    map_type=MAP_TYPE,\n",
    "    suite=SUITE,\n",
    "    dataset=\"WDM\",\n",
    "    parameters=['Omega_m','sigma_8','A_SN1','A_SN2','A_AGN1','A_AGN2','Wdm_mass'],\n",
    ")\n",
    "\n",
    "cdm_test = data.CAMELS(\n",
    "    root=cdm_path,\n",
    "    idx_list=range(12000, 15000),\n",
    "    map_type=MAP_TYPE,\n",
    "    suite=SUITE,\n",
    "    dataset=DATASET,\n",
    "    parameters=['Omega_m','sigma_8','A_SN1','A_SN2','A_AGN1','A_AGN2','Omega_b'],\n",
    ")\n",
    "\n",
    "wdm_test = data.CAMELS(\n",
    "    root=wdm_path,\n",
    "    idx_list=range(12000, 15000),\n",
    "    map_type=MAP_TYPE,\n",
    "    suite=SUITE,\n",
    "    dataset=\"WDM\",\n",
    "    parameters=['Omega_m','sigma_8','A_SN1','A_SN2','A_AGN1','A_AGN2','Wdm_mass'],\n",
    ")\n",
    "\n",
    "# 4) Wrapper to add class labels\n",
    "def add_label(dataset, label):\n",
    "    class LabeledDataset(Dataset):\n",
    "        def __init__(self, base, lbl):\n",
    "            self.base = base\n",
    "            self.lbl = lbl\n",
    "        def __len__(self):\n",
    "            return len(self.base)\n",
    "        def __getitem__(self, idx):\n",
    "            img, params = self.base[idx]\n",
    "            return img, float(self.lbl)\n",
    "    return LabeledDataset(dataset, label)"
   ]
  },
  {
   "cell_type": "code",
   "execution_count": null,
   "id": "164db792",
   "metadata": {},
   "outputs": [],
   "source": [
    "cdm_train_l = add_label(cdm_train, 0)\n",
    "wdm_train_l = add_label(wdm_train, 1)\n",
    "cdm_test_l  = add_label(cdm_test,  0)\n",
    "wdm_test_l  = add_label(wdm_test,  1)\n",
    "\n",
    "# 5) Combine and create DataLoaders\n",
    "train_ds = ConcatDataset([cdm_train_l, wdm_train_l])\n",
    "test_ds  = ConcatDataset([cdm_test_l,  wdm_test_l])\n",
    "\n",
    "train_loader = DataLoader(train_ds, batch_size=64, shuffle=True, num_workers=4)\n",
    "test_loader  = DataLoader(test_ds,  batch_size=64, shuffle=False, num_workers=4)\n",
    "\n",
    "model = anom.AnomalyDetectorImg(hidden=5, dr=0.1, channels=1)\n",
    "model = model.to(device)\n"
   ]
  },
  {
   "cell_type": "code",
   "execution_count": null,
   "id": "5a38b1a6",
   "metadata": {},
   "outputs": [
    {
     "name": "stderr",
     "output_type": "stream",
     "text": [
      "Epoch 1/10: 100%|██████████| 375/375 [00:59<00:00,  6.32it/s]"
     ]
    },
    {
     "name": "stdout",
     "output_type": "stream",
     "text": [
      "Epoch 1/10 - Train Loss: 0.1063\n"
     ]
    },
    {
     "name": "stderr",
     "output_type": "stream",
     "text": [
      "\n"
     ]
    },
    {
     "name": "stdout",
     "output_type": "stream",
     "text": [
      "          Test Acc:  0.9973\n",
      "\n"
     ]
    },
    {
     "name": "stderr",
     "output_type": "stream",
     "text": [
      "Epoch 2/10: 100%|██████████| 375/375 [00:49<00:00,  7.62it/s]"
     ]
    },
    {
     "name": "stdout",
     "output_type": "stream",
     "text": [
      "Epoch 2/10 - Train Loss: 0.0016\n"
     ]
    },
    {
     "name": "stderr",
     "output_type": "stream",
     "text": [
      "\n"
     ]
    },
    {
     "name": "stdout",
     "output_type": "stream",
     "text": [
      "          Test Acc:  0.9997\n",
      "\n"
     ]
    },
    {
     "name": "stderr",
     "output_type": "stream",
     "text": [
      "Epoch 3/10:  16%|█▌        | 60/375 [00:09<00:49,  6.37it/s]"
     ]
    }
   ],
   "source": [
    "criterion = nn.CrossEntropyLoss()\n",
    "optimizer = optim.Adam(model.parameters(), lr=1e-3)\n",
    "\n",
    "# 8) Training loop\n",
    "num_epochs = 10\n",
    "for epoch in range(num_epochs):\n",
    "    model.train()\n",
    "    total_loss = 0.0\n",
    "    for imgs, labels in tqdm.tqdm(train_loader, desc=f\"Epoch {epoch+1}/{num_epochs}\"):\n",
    "        imgs = imgs.to(device)\n",
    "        labels = labels.to(device)\n",
    "        logits = model(imgs)           # feature extractor\n",
    "        loss     = criterion(logits, labels)\n",
    "        optimizer.zero_grad()\n",
    "        loss.backward()\n",
    "        optimizer.step()\n",
    "        total_loss += loss.item() * imgs.size(0)\n",
    "    avg_loss = total_loss / len(train_loader.dataset)\n",
    "    print(f\"Epoch {epoch+1}/{num_epochs} - Train Loss: {avg_loss:.4f}\")\n",
    "\n",
    "    # evaluation\n",
    "    model.eval()\n",
    "    correct = 0\n",
    "    with torch.no_grad():\n",
    "        for imgs, labels in test_loader:\n",
    "            imgs = imgs.to(device)\n",
    "            labels = labels.to(device)\n",
    "            feats = model(imgs)\n",
    "            preds = (feats).argmax(dim=1)\n",
    "            correct += (preds == labels).sum().item()\n",
    "    acc = correct / len(test_loader.dataset)\n",
    "    print(f\"          Test Acc:  {acc:.4f}\\n\")"
   ]
  }
 ],
 "metadata": {
  "kernelspec": {
   "display_name": "My CUDA Env",
   "language": "python",
   "name": "env"
  },
  "language_info": {
   "codemirror_mode": {
    "name": "ipython",
    "version": 3
   },
   "file_extension": ".py",
   "mimetype": "text/x-python",
   "name": "python",
   "nbconvert_exporter": "python",
   "pygments_lexer": "ipython3",
   "version": "3.12.11"
  }
 },
 "nbformat": 4,
 "nbformat_minor": 5
}
