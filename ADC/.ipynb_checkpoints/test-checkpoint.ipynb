{
 "cells": [
  {
   "cell_type": "code",
   "execution_count": 1,
   "id": "93a602fc-f155-4a33-8548-05d0c7daecf3",
   "metadata": {},
   "outputs": [],
   "source": [
    "import os\n",
    "import torch\n",
    "import torch.nn as nn\n",
    "from torch.utils.data import DataLoader, Dataset, ConcatDataset\n",
    "import torch.optim as optim\n",
    "\n",
    "import matplotlib.pyplot as plt\n",
    "import numpy as np\n",
    "\n",
    "import tqdm\n",
    "\n",
    "import data\n",
    "import anomaly_det_model as anom"
   ]
  },
  {
   "cell_type": "code",
   "execution_count": 2,
   "id": "6d319c05-1bba-4523-9450-6dbe8ca6c9eb",
   "metadata": {},
   "outputs": [],
   "source": [
    "# 1) Setup\n",
    "device = 'cuda' if torch.cuda.is_available() else 'cpu'\n",
    "ckpt_path = '/n/netscratch/iaifi_lab/Lab/msliu/data/anomaly_detection_weights.pth'\n",
    "base_path = '/n/netscratch/iaifi_lab/Lab/msliu/data'\n",
    "\n",
    "MAP_TYPE = \"Mcdm\"\n",
    "SUITE = \"IllustrisTNG\"\n",
    "DATASET = \"LH\"\n",
    "MAP_RESOLUTION = 256\n",
    "\n",
    "cdm_test = data.CAMELS(\n",
    "    root=base_path,\n",
    "    idx_list=range(12000, 15000),\n",
    "    map_type=MAP_TYPE,\n",
    "    suite=SUITE,\n",
    "    dataset=DATASET,\n",
    "    parameters=['Omega_m','sigma_8','A_SN1','A_SN2','A_AGN1','A_AGN2','Omega_b'],\n",
    ")\n",
    "\n",
    "wdm_test = data.CAMELS(\n",
    "    root=base_path,\n",
    "    idx_list=range(12000, 15000),\n",
    "    map_type=MAP_TYPE,\n",
    "    suite=SUITE,\n",
    "    dataset=\"WDM\",\n",
    "    parameters=['Omega_m','sigma_8','A_SN1','A_SN2','A_AGN1','A_AGN2','Wdm_mass'],\n",
    ")\n",
    "\n",
    "# 4) Wrapper to add class labels\n",
    "def add_label(dataset, label):\n",
    "    class LabeledDataset(Dataset):\n",
    "        def __init__(self, base, lbl):\n",
    "            self.base = base\n",
    "            self.lbl = lbl\n",
    "        def __len__(self):\n",
    "            return len(self.base)\n",
    "        def __getitem__(self, idx):\n",
    "            img, params = self.base[idx]\n",
    "            return img, float(self.lbl)\n",
    "    return LabeledDataset(dataset, label)"
   ]
  },
  {
   "cell_type": "code",
   "execution_count": 3,
   "id": "0f29761d-a780-47b4-a7fe-06b17d019080",
   "metadata": {},
   "outputs": [],
   "source": [
    "cdm_test_l  = add_label(cdm_test,  0)\n",
    "wdm_test_l  = add_label(wdm_test,  1)\n",
    "\n",
    "test_ds  = ConcatDataset([cdm_test_l,  wdm_test_l])\n",
    "\n",
    "test_loader  = DataLoader(test_ds,  batch_size=64, shuffle=False, num_workers=1)\n",
    "\n",
    "model = anom.AnomalyDetectorImg(hidden=5, dr=0.1, channels=1)\n",
    "state_dict = torch.load(ckpt_path, weights_only=True)\n",
    "model.load_state_dict(state_dict)\n",
    "model = model.to(device)"
   ]
  },
  {
   "cell_type": "code",
   "execution_count": 4,
   "id": "10e0792a-76f8-43db-af9a-bd129f94e2b9",
   "metadata": {},
   "outputs": [
    {
     "name": "stdout",
     "output_type": "stream",
     "text": [
      "0.5005\n"
     ]
    }
   ],
   "source": [
    "def evaluate_model(model, test_loader):\n",
    "    model.eval()\n",
    "    correct = 0\n",
    "    total = 0\n",
    "    with torch.no_grad():\n",
    "        for imgs, labels in test_loader:\n",
    "            imgs = imgs.to(device).float()\n",
    "            labels = labels.to(device).long()\n",
    "            preds = model(imgs).argmax(dim=1)\n",
    "            correct += (preds == labels).sum().item()\n",
    "            total += labels.size(0)\n",
    "    return correct / total\n",
    "\n",
    "\n",
    "print(evaluate_model(model,test_loader))"
   ]
  },
  {
   "cell_type": "code",
   "execution_count": null,
   "id": "6aa67b4d-f257-4f96-a876-d0012464bbdb",
   "metadata": {},
   "outputs": [],
   "source": []
  }
 ],
 "metadata": {
  "kernelspec": {
   "display_name": "My CUDA Env",
   "language": "python",
   "name": "env"
  },
  "language_info": {
   "codemirror_mode": {
    "name": "ipython",
    "version": 3
   },
   "file_extension": ".py",
   "mimetype": "text/x-python",
   "name": "python",
   "nbconvert_exporter": "python",
   "pygments_lexer": "ipython3",
   "version": "3.12.11"
  }
 },
 "nbformat": 4,
 "nbformat_minor": 5
}
