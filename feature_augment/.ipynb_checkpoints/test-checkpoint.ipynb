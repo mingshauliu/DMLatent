{
 "cells": [
  {
   "cell_type": "code",
   "execution_count": null,
   "id": "e4e33c30-e218-4ba6-9f11-a8b3a08759f2",
   "metadata": {},
   "outputs": [],
   "source": [
    "import torch\n",
    "import torch.nn as nn\n",
    "import torch.optim as optim\n",
    "from torch.utils.data import DataLoader\n",
    "import os\n",
    "import numpy as np\n",
    "import random\n",
    "import matplotlib.pyplot as plt\n",
    "import time\n",
    "from utils import set_seed, load_dataset, plot_feature_maps, plot_training_progress, evaluate_model, radial_power_spectrum\n",
    "from transform import TensorAugment, SimpleResize\n",
    "from models import SimpleCNN, BigCNN"
   ]
  },
  {
   "cell_type": "code",
   "execution_count": null,
   "id": "eef5784e-3c6c-46e1-9972-0d0ab239fd03",
   "metadata": {},
   "outputs": [],
   "source": []
  }
 ],
 "metadata": {
  "kernelspec": {
   "display_name": "My CUDA Env",
   "language": "python",
   "name": "env"
  },
  "language_info": {
   "codemirror_mode": {
    "name": "ipython",
    "version": 3
   },
   "file_extension": ".py",
   "mimetype": "text/x-python",
   "name": "python",
   "nbconvert_exporter": "python",
   "pygments_lexer": "ipython3",
   "version": "3.12.11"
  }
 },
 "nbformat": 4,
 "nbformat_minor": 5
}
